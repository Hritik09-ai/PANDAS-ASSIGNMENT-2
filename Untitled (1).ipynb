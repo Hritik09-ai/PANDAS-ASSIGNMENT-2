{
 "cells": [
  {
   "cell_type": "code",
   "execution_count": 2,
   "id": "0757d503-fe5d-4502-ab8f-cb26eba29d92",
   "metadata": {},
   "outputs": [],
   "source": [
    "# QUESTION.1 Consider following code to answer further questions:\n",
    "# import pandas as pd\n",
    "# course_name = [‘Data Science’, ‘Machine Learning’, ‘Big Data’, ‘Data Engineer’]\n",
    "# duration = [2,3,6,4]\n",
    "# df = pd.DataFrame(data = {‘course_name’ : course_name, ‘duration’ : duration})\n",
    "#    1. Write a code to print the data present in the second row of the dataframe, df.\n",
    "# ANSWWR \n",
    "import pandas as pd\n",
    "course_name = ['Data Science', 'Machine Learning', 'Big Data', 'Data Engineer']\n",
    "duration = [2,3,6,4]\n",
    "df = pd.DataFrame(data = {'course_name' : course_name, 'duration' : duration})"
   ]
  },
  {
   "cell_type": "code",
   "execution_count": 3,
   "id": "d4a88cf8-311a-49fa-b509-7f87260ac7be",
   "metadata": {},
   "outputs": [
    {
     "data": {
      "text/html": [
       "<div>\n",
       "<style scoped>\n",
       "    .dataframe tbody tr th:only-of-type {\n",
       "        vertical-align: middle;\n",
       "    }\n",
       "\n",
       "    .dataframe tbody tr th {\n",
       "        vertical-align: top;\n",
       "    }\n",
       "\n",
       "    .dataframe thead th {\n",
       "        text-align: right;\n",
       "    }\n",
       "</style>\n",
       "<table border=\"1\" class=\"dataframe\">\n",
       "  <thead>\n",
       "    <tr style=\"text-align: right;\">\n",
       "      <th></th>\n",
       "      <th>course_name</th>\n",
       "      <th>duration</th>\n",
       "    </tr>\n",
       "  </thead>\n",
       "  <tbody>\n",
       "    <tr>\n",
       "      <th>0</th>\n",
       "      <td>Data Science</td>\n",
       "      <td>2</td>\n",
       "    </tr>\n",
       "    <tr>\n",
       "      <th>1</th>\n",
       "      <td>Machine Learning</td>\n",
       "      <td>3</td>\n",
       "    </tr>\n",
       "    <tr>\n",
       "      <th>2</th>\n",
       "      <td>Big Data</td>\n",
       "      <td>6</td>\n",
       "    </tr>\n",
       "    <tr>\n",
       "      <th>3</th>\n",
       "      <td>Data Engineer</td>\n",
       "      <td>4</td>\n",
       "    </tr>\n",
       "  </tbody>\n",
       "</table>\n",
       "</div>"
      ],
      "text/plain": [
       "        course_name  duration\n",
       "0      Data Science         2\n",
       "1  Machine Learning         3\n",
       "2          Big Data         6\n",
       "3     Data Engineer         4"
      ]
     },
     "execution_count": 3,
     "metadata": {},
     "output_type": "execute_result"
    }
   ],
   "source": [
    "df"
   ]
  },
  {
   "cell_type": "code",
   "execution_count": null,
   "id": "8c8e56ed-d9a6-4137-9060-dee5395d9406",
   "metadata": {},
   "outputs": [],
   "source": []
  },
  {
   "cell_type": "code",
   "execution_count": null,
   "id": "b3134109-a9fe-4a43-9ffd-a946761072c2",
   "metadata": {},
   "outputs": [],
   "source": [
    "# QUESTION.2 What is the difference between the functions loc and iloc in pandas.DataFrame?\n",
    "# ANSWER loc (Label-based Selection):\n",
    "\n",
    "#     *  loc is primarily label-based, meaning it uses the row and column labels to select data.\n",
    "#     *  You can use row and column labels or boolean indexing to filter rows and columns.\n",
    "#     *  When using loc, both the start and stop bounds are inclusive.\n",
    "#     *  It works with labels or boolean arrays for row and column indexing.\n",
    "\n",
    "#        iloc (Integer-based Selection):\n",
    "\n",
    "#     *  iloc is primarily integer-based, meaning it uses integer positions to select data.\n",
    "#     *  You can use integer indices or slices to filter rows and columns.\n",
    "#     *  When using iloc, the start bound is inclusive, but the stop bound is exclusive.\n",
    "#     *  It works with integer indices or slices for row and column indexing.\n"
   ]
  },
  {
   "cell_type": "code",
   "execution_count": null,
   "id": "92f030fe-c788-4cad-965a-4d9490674fda",
   "metadata": {},
   "outputs": [],
   "source": []
  },
  {
   "cell_type": "code",
   "execution_count": 4,
   "id": "bbb977e2-f4e0-471c-a8e6-a5c1f3287042",
   "metadata": {},
   "outputs": [
    {
     "name": "stdout",
     "output_type": "stream",
     "text": [
      "Output of new_df.loc[2]:\n",
      " A    30\n",
      "B    70\n",
      "Name: 2, dtype: int64\n",
      "\n",
      "Output of new_df.iloc[2]:\n",
      " A    20\n",
      "B    60\n",
      "Name: 1, dtype: int64\n"
     ]
    }
   ],
   "source": [
    "# QUESTION.3 Reindex the given dataframe using a variable, reindex = [3,0,1,2] and store it in the variable, new_df\n",
    "#  then find the output for both new_df.loc[2] and new_df.iloc[2].Did you observe any difference in both the outputs?\n",
    "#  If so then explain it.\n",
    "# ANSWER \n",
    "import pandas as pd\n",
    "\n",
    "# Sample DataFrame\n",
    "data = {'A': [10, 20, 30, 40], 'B': [50, 60, 70, 80]}\n",
    "df = pd.DataFrame(data)\n",
    "\n",
    "# Define the reindex list\n",
    "reindex = [3, 0, 1, 2]\n",
    "\n",
    "# Reindex the DataFrame\n",
    "new_df = df.reindex(reindex)\n",
    "\n",
    "# Output of new_df.loc[2] and new_df.iloc[2]\n",
    "output_loc = new_df.loc[2]\n",
    "output_iloc = new_df.iloc[2]\n",
    "\n",
    "print(\"Output of new_df.loc[2]:\\n\", output_loc)\n",
    "print(\"\\nOutput of new_df.iloc[2]:\\n\", output_iloc)\n"
   ]
  },
  {
   "cell_type": "code",
   "execution_count": null,
   "id": "58f7c8d4-72da-434a-bb07-b12564723932",
   "metadata": {},
   "outputs": [],
   "source": []
  },
  {
   "cell_type": "code",
   "execution_count": 6,
   "id": "90f68081-0082-4a47-8aaf-ff382ab3bbe2",
   "metadata": {},
   "outputs": [
    {
     "name": "stdout",
     "output_type": "stream",
     "text": [
      "Mean of each column:\n",
      "column_1    0.461494\n",
      "column_2    0.616460\n",
      "column_3    0.410042\n",
      "column_4    0.400657\n",
      "column_5    0.635108\n",
      "column_6    0.638615\n",
      "dtype: float64\n",
      "\n",
      "Standard Deviation of 'column_2': 0.3072821393254244\n"
     ]
    }
   ],
   "source": [
    "# QUESTION.4 Consider the below code to answer further questions:\n",
    "import pandas as pd\n",
    "import numpy as np\n",
    "columns = ['column_1', 'column_2', 'column_3', 'column_4', 'column_5', 'column_6']\n",
    "indices = [1,2,3,4,5,6]\n",
    "#Creating a dataframe:\n",
    "df1 = pd.DataFrame(np.random.rand(6,6), columns = columns, index = indices)\n",
    "\n",
    "# Q4. Write a code to find the following statistical measurements for the above dataframe df1:\n",
    "#     (i) mean of each and every column present in the dataframe.\n",
    "#     (ii) standard deviation of column, ‘column_2’\n",
    "# ANSWER \n",
    "import pandas as pd\n",
    "import numpy as np\n",
    "\n",
    "\n",
    "columns = ['column_1', 'column_2', 'column_3', 'column_4', 'column_5', 'column_6']\n",
    "indices = [1, 2, 3, 4, 5, 6]\n",
    "df1 = pd.DataFrame(np.random.rand(6, 6), columns=columns, index=indices)\n",
    "\n",
    "# (i) Calculate the mean of each column\n",
    "column_means = df1.mean()\n",
    "print(\"Mean of each column:\")\n",
    "print(column_means)\n",
    "\n",
    "# (ii) Calculate the standard deviation of 'column_2'\n",
    "column_2_std = df1['column_2'].std()\n",
    "print(\"\\nStandard Deviation of 'column_2':\", column_2_std)\n"
   ]
  },
  {
   "cell_type": "code",
   "execution_count": null,
   "id": "cd98a0b7-5433-430a-be63-d180ebe3b0b0",
   "metadata": {},
   "outputs": [],
   "source": []
  },
  {
   "cell_type": "code",
   "execution_count": 17,
   "id": "85f6670a-9c2d-497d-96d5-701e5982d31e",
   "metadata": {},
   "outputs": [],
   "source": [
    "# QUESTION.5 Replace the data present in the second row of column, ‘column_2’ by a string variable then find the\n",
    "#           mean of column, column_2. If you are getting errors in executing it then explain why.\n",
    "import pandas as pd\n",
    "import numpy as np\n",
    "\n",
    "# Define the DataFrame\n",
    "\n",
    "columns = ['column_1', 'column_2', 'column_3', 'column_4', 'column_5', 'column_6']\n",
    "indices = [1, 2, 3, 4, 5, 6]\n",
    "df1 = pd.DataFrame(np.random.rand(6, 6), columns=columns, index=indices)"
   ]
  },
  {
   "cell_type": "code",
   "execution_count": 18,
   "id": "63584882-55cd-40d1-9081-12b240093212",
   "metadata": {},
   "outputs": [
    {
     "data": {
      "text/html": [
       "<div>\n",
       "<style scoped>\n",
       "    .dataframe tbody tr th:only-of-type {\n",
       "        vertical-align: middle;\n",
       "    }\n",
       "\n",
       "    .dataframe tbody tr th {\n",
       "        vertical-align: top;\n",
       "    }\n",
       "\n",
       "    .dataframe thead th {\n",
       "        text-align: right;\n",
       "    }\n",
       "</style>\n",
       "<table border=\"1\" class=\"dataframe\">\n",
       "  <thead>\n",
       "    <tr style=\"text-align: right;\">\n",
       "      <th></th>\n",
       "      <th>column_1</th>\n",
       "      <th>column_2</th>\n",
       "      <th>column_3</th>\n",
       "      <th>column_4</th>\n",
       "      <th>column_5</th>\n",
       "      <th>column_6</th>\n",
       "    </tr>\n",
       "  </thead>\n",
       "  <tbody>\n",
       "    <tr>\n",
       "      <th>1</th>\n",
       "      <td>0.500394</td>\n",
       "      <td>0.086155</td>\n",
       "      <td>0.070679</td>\n",
       "      <td>0.316651</td>\n",
       "      <td>0.677752</td>\n",
       "      <td>0.636407</td>\n",
       "    </tr>\n",
       "    <tr>\n",
       "      <th>2</th>\n",
       "      <td>0.079632</td>\n",
       "      <td>0.979742</td>\n",
       "      <td>0.836113</td>\n",
       "      <td>0.053814</td>\n",
       "      <td>0.384966</td>\n",
       "      <td>0.591936</td>\n",
       "    </tr>\n",
       "    <tr>\n",
       "      <th>3</th>\n",
       "      <td>0.217594</td>\n",
       "      <td>0.883692</td>\n",
       "      <td>0.926614</td>\n",
       "      <td>0.618179</td>\n",
       "      <td>0.928565</td>\n",
       "      <td>0.989264</td>\n",
       "    </tr>\n",
       "    <tr>\n",
       "      <th>4</th>\n",
       "      <td>0.513994</td>\n",
       "      <td>0.204869</td>\n",
       "      <td>0.002682</td>\n",
       "      <td>0.398583</td>\n",
       "      <td>0.359790</td>\n",
       "      <td>0.317063</td>\n",
       "    </tr>\n",
       "    <tr>\n",
       "      <th>5</th>\n",
       "      <td>0.400007</td>\n",
       "      <td>0.646799</td>\n",
       "      <td>0.358084</td>\n",
       "      <td>0.787136</td>\n",
       "      <td>0.794195</td>\n",
       "      <td>0.225447</td>\n",
       "    </tr>\n",
       "    <tr>\n",
       "      <th>6</th>\n",
       "      <td>0.326723</td>\n",
       "      <td>0.537012</td>\n",
       "      <td>0.124850</td>\n",
       "      <td>0.262146</td>\n",
       "      <td>0.251520</td>\n",
       "      <td>0.377290</td>\n",
       "    </tr>\n",
       "  </tbody>\n",
       "</table>\n",
       "</div>"
      ],
      "text/plain": [
       "   column_1  column_2  column_3  column_4  column_5  column_6\n",
       "1  0.500394  0.086155  0.070679  0.316651  0.677752  0.636407\n",
       "2  0.079632  0.979742  0.836113  0.053814  0.384966  0.591936\n",
       "3  0.217594  0.883692  0.926614  0.618179  0.928565  0.989264\n",
       "4  0.513994  0.204869  0.002682  0.398583  0.359790  0.317063\n",
       "5  0.400007  0.646799  0.358084  0.787136  0.794195  0.225447\n",
       "6  0.326723  0.537012  0.124850  0.262146  0.251520  0.377290"
      ]
     },
     "execution_count": 18,
     "metadata": {},
     "output_type": "execute_result"
    }
   ],
   "source": [
    "df1"
   ]
  },
  {
   "cell_type": "code",
   "execution_count": 21,
   "id": "ca99b162-c31a-4a83-948b-76af23ce01b7",
   "metadata": {},
   "outputs": [],
   "source": [
    "df1.loc[2,'column_2'] = 'hritik'"
   ]
  },
  {
   "cell_type": "code",
   "execution_count": 22,
   "id": "caf39c65-9c13-43bb-9729-f759c2db3bfe",
   "metadata": {},
   "outputs": [
    {
     "data": {
      "text/html": [
       "<div>\n",
       "<style scoped>\n",
       "    .dataframe tbody tr th:only-of-type {\n",
       "        vertical-align: middle;\n",
       "    }\n",
       "\n",
       "    .dataframe tbody tr th {\n",
       "        vertical-align: top;\n",
       "    }\n",
       "\n",
       "    .dataframe thead th {\n",
       "        text-align: right;\n",
       "    }\n",
       "</style>\n",
       "<table border=\"1\" class=\"dataframe\">\n",
       "  <thead>\n",
       "    <tr style=\"text-align: right;\">\n",
       "      <th></th>\n",
       "      <th>column_1</th>\n",
       "      <th>column_2</th>\n",
       "      <th>column_3</th>\n",
       "      <th>column_4</th>\n",
       "      <th>column_5</th>\n",
       "      <th>column_6</th>\n",
       "    </tr>\n",
       "  </thead>\n",
       "  <tbody>\n",
       "    <tr>\n",
       "      <th>1</th>\n",
       "      <td>0.500394</td>\n",
       "      <td>0.086155</td>\n",
       "      <td>0.070679</td>\n",
       "      <td>0.316651</td>\n",
       "      <td>0.677752</td>\n",
       "      <td>0.636407</td>\n",
       "    </tr>\n",
       "    <tr>\n",
       "      <th>2</th>\n",
       "      <td>0.079632</td>\n",
       "      <td>hritik</td>\n",
       "      <td>0.836113</td>\n",
       "      <td>0.053814</td>\n",
       "      <td>0.384966</td>\n",
       "      <td>0.591936</td>\n",
       "    </tr>\n",
       "    <tr>\n",
       "      <th>3</th>\n",
       "      <td>0.217594</td>\n",
       "      <td>0.883692</td>\n",
       "      <td>0.926614</td>\n",
       "      <td>0.618179</td>\n",
       "      <td>0.928565</td>\n",
       "      <td>0.989264</td>\n",
       "    </tr>\n",
       "    <tr>\n",
       "      <th>4</th>\n",
       "      <td>0.513994</td>\n",
       "      <td>0.204869</td>\n",
       "      <td>0.002682</td>\n",
       "      <td>0.398583</td>\n",
       "      <td>0.359790</td>\n",
       "      <td>0.317063</td>\n",
       "    </tr>\n",
       "    <tr>\n",
       "      <th>5</th>\n",
       "      <td>0.400007</td>\n",
       "      <td>0.646799</td>\n",
       "      <td>0.358084</td>\n",
       "      <td>0.787136</td>\n",
       "      <td>0.794195</td>\n",
       "      <td>0.225447</td>\n",
       "    </tr>\n",
       "    <tr>\n",
       "      <th>6</th>\n",
       "      <td>0.326723</td>\n",
       "      <td>0.537012</td>\n",
       "      <td>0.124850</td>\n",
       "      <td>0.262146</td>\n",
       "      <td>0.251520</td>\n",
       "      <td>0.377290</td>\n",
       "    </tr>\n",
       "  </tbody>\n",
       "</table>\n",
       "</div>"
      ],
      "text/plain": [
       "   column_1  column_2  column_3  column_4  column_5  column_6\n",
       "1  0.500394  0.086155  0.070679  0.316651  0.677752  0.636407\n",
       "2  0.079632    hritik  0.836113  0.053814  0.384966  0.591936\n",
       "3  0.217594  0.883692  0.926614  0.618179  0.928565  0.989264\n",
       "4  0.513994  0.204869  0.002682  0.398583  0.359790  0.317063\n",
       "5  0.400007  0.646799  0.358084  0.787136  0.794195  0.225447\n",
       "6  0.326723  0.537012  0.124850  0.262146  0.251520  0.377290"
      ]
     },
     "execution_count": 22,
     "metadata": {},
     "output_type": "execute_result"
    }
   ],
   "source": [
    "df1"
   ]
  },
  {
   "cell_type": "code",
   "execution_count": 23,
   "id": "1d253373-3232-462f-b9dd-ef4d0d4c9b0d",
   "metadata": {},
   "outputs": [
    {
     "name": "stderr",
     "output_type": "stream",
     "text": [
      "/tmp/ipykernel_124/2053335143.py:1: FutureWarning: The default value of numeric_only in DataFrame.mean is deprecated. In a future version, it will default to False. In addition, specifying 'numeric_only=None' is deprecated. Select only valid columns or specify the value of numeric_only to silence this warning.\n",
      "  df1.mean()\n"
     ]
    },
    {
     "data": {
      "text/plain": [
       "column_1    0.339724\n",
       "column_3    0.386503\n",
       "column_4    0.406085\n",
       "column_5    0.566131\n",
       "column_6    0.522901\n",
       "dtype: float64"
      ]
     },
     "execution_count": 23,
     "metadata": {},
     "output_type": "execute_result"
    }
   ],
   "source": [
    "df1.mean()"
   ]
  },
  {
   "cell_type": "code",
   "execution_count": null,
   "id": "866c7dbb-ab95-4582-87af-9f1c3cb203b4",
   "metadata": {},
   "outputs": [],
   "source": [
    "# The code you provided attempts to replace the data in the second row of 'column_2' with a string variable,\n",
    "# which is not allowed in a Pandas DataFrame where columns have a specific data type]\n",
    "# (in this case, 'column_2' is expected to have a numeric data type because it contains random floats).\n",
    "# Attempting to replace a numeric value with a string will result in a ValueError."
   ]
  },
  {
   "cell_type": "code",
   "execution_count": null,
   "id": "0625f31a-bf00-4feb-9b6a-1a5dc8ce7bbb",
   "metadata": {},
   "outputs": [],
   "source": []
  },
  {
   "cell_type": "code",
   "execution_count": null,
   "id": "daf996d1-b587-429d-8c5e-a0059de4e340",
   "metadata": {},
   "outputs": [],
   "source": [
    "# QUESTION.6 What do you understand about the windows function in pandas and list the types of windows functions?\n",
    "# ANSWER     In pandas, the \"window function\" refers to a group of functions that are used for performing\n",
    "# operations on a set of data points within a defined window or rolling window of data. These functions are\n",
    "# particularly useful for time series data and data where the order or sequence matters. Windows functions allow\n",
    "# you to compute aggregate statistics, transformations, and other operations on subsets of data defined by\n",
    "# a moving window.\n",
    "\n",
    "# Rolling Functions: Rolling functions create a rolling view of your data and allow you to apply various operations \n",
    "#       to this rolling window. The window size is specified, and the function moves through the data, updating the \n",
    "# window at each step. \n",
    "\n",
    "# Expanding Functions: Expanding functions compute a statistic for all data points from the start up to the\n",
    "#                      current point. They expand the window as they progress through the data.\n",
    "\n",
    "# Exponential Moving Average (EMA): EMA is a type of window function that assigns exponentially decreasing\n",
    "#                  weights to older data points. It is commonly used in financial and time series analysis.\n"
   ]
  },
  {
   "cell_type": "code",
   "execution_count": null,
   "id": "278f2b18-2efa-4f73-880c-9d9397d09a0d",
   "metadata": {},
   "outputs": [],
   "source": []
  },
  {
   "cell_type": "code",
   "execution_count": 24,
   "id": "32528e16-0732-42e0-96a0-cb4189152fa0",
   "metadata": {},
   "outputs": [
    {
     "name": "stdout",
     "output_type": "stream",
     "text": [
      "Current Month: 9\n",
      "Current Year: 2023\n"
     ]
    }
   ],
   "source": [
    "# QUESTION.7 Write a code to print only the current month and year at the time of answering this question.\n",
    "# ANSWER \n",
    "import pandas as pd\n",
    "from datetime import datetime\n",
    "\n",
    "# Get the current date\n",
    "current_date = datetime.now()\n",
    "\n",
    "# Create a pandas Timestamp object from the current date\n",
    "current_timestamp = pd.Timestamp(current_date)\n",
    "\n",
    "# Extract the month and year from the Timestamp\n",
    "current_month = current_timestamp.month\n",
    "current_year = current_timestamp.year\n",
    "\n",
    "# Print the current month and year\n",
    "print(f\"Current Month: {current_month}\")\n",
    "print(f\"Current Year: {current_year}\")\n"
   ]
  },
  {
   "cell_type": "code",
   "execution_count": null,
   "id": "03a214ca-531a-4c3b-9113-cf854cdec8e2",
   "metadata": {},
   "outputs": [],
   "source": []
  },
  {
   "cell_type": "code",
   "execution_count": 1,
   "id": "62e3b22c-2006-412e-a854-26e60c0a97be",
   "metadata": {},
   "outputs": [
    {
     "name": "stdin",
     "output_type": "stream",
     "text": [
      "Enter the first date (YYYY-MM-DD):  20-9-2023\n",
      "Enter the second date (YYYY-MM-DD):  20-9-2001\n"
     ]
    },
    {
     "name": "stdout",
     "output_type": "stream",
     "text": [
      "Time difference: -8035 days, 0 hours, 0 minutes\n"
     ]
    },
    {
     "name": "stderr",
     "output_type": "stream",
     "text": [
      "/tmp/ipykernel_77/840014784.py:8: UserWarning: Parsing dates in DD/MM/YYYY format when dayfirst=False (the default) was specified. This may lead to inconsistently parsed dates! Specify a format to ensure consistent parsing.\n",
      "  date1 = pd.to_datetime(date1_str)\n",
      "/tmp/ipykernel_77/840014784.py:9: UserWarning: Parsing dates in DD/MM/YYYY format when dayfirst=False (the default) was specified. This may lead to inconsistently parsed dates! Specify a format to ensure consistent parsing.\n",
      "  date2 = pd.to_datetime(date2_str)\n"
     ]
    }
   ],
   "source": [
    "# QUESTION.8 Write a Python program that takes in two dates as input (in the format YYYY-MM-DD) and calculates the\n",
    "# difference between them in days, hours, and minutes using Pandas time delta. The program should prompt the user to enter\n",
    "# the dates and display the result.\n",
    "# ANSWER \n",
    "\n",
    "# Input dates from the user\n",
    "date1_str = input(\"Enter the first date (YYYY-MM-DD): \")\n",
    "date2_str = input(\"Enter the second date (YYYY-MM-DD): \")\n",
    "\n",
    "# Convert input strings to datetime objects\n",
    "date1 = pd.to_datetime(date1_str)\n",
    "date2 = pd.to_datetime(date2_str)\n",
    "\n",
    "# Calculate the time difference\n",
    "time_difference = date2 - date1\n",
    "\n",
    "# Extract days, hours, and minutes from the time difference\n",
    "days = time_difference.days\n",
    "hours, remainder = divmod(time_difference.seconds, 3600)\n",
    "minutes, _ = divmod(remainder, 60)\n",
    "\n",
    "# Display the result\n",
    "print(f\"Time difference: {days} days, {hours} hours, {minutes} minutes\")"
   ]
  },
  {
   "cell_type": "code",
   "execution_count": null,
   "id": "fda35d13-0955-4cab-bd50-0aad345ad3a3",
   "metadata": {},
   "outputs": [],
   "source": []
  },
  {
   "cell_type": "code",
   "execution_count": null,
   "id": "27cf1b8f-3ecb-4031-9807-38b8099ce3f7",
   "metadata": {},
   "outputs": [
    {
     "name": "stdin",
     "output_type": "stream",
     "text": [
      "Enter the CSV file path:  l\n"
     ]
    }
   ],
   "source": [
    "# QUESTION.9 Write a Python program that reads a CSV file containing categorical data and converts a specified column to a\n",
    "# categorical data type. The program should prompt the user to enter the file path, column name, and category order, and\n",
    "# then display the sorted data.\n",
    "import pandas as pd\n",
    "\n",
    "# Function to load and process the CSV file\n",
    "def process_csv_file(file_path, column_name, category_order):\n",
    "    try:\n",
    "        # Read the CSV file into a DataFrame\n",
    "        df = pd.read_csv(file_path)\n",
    "        \n",
    "        # Convert the specified column to a categorical data type\n",
    "        df[column_name] = pd.Categorical(df[column_name], categories=category_order, ordered=True)\n",
    "        \n",
    "        # Sort the DataFrame by the categorical column\n",
    "        sorted_df = df.sort_values(by=[column_name])\n",
    "        \n",
    "        # Display the sorted data\n",
    "        print(sorted_df)\n",
    "    \n",
    "    except FileNotFoundError:\n",
    "        print(f\"File not found: {file_path}\")\n",
    "    except KeyError:\n",
    "        print(f\"Column not found: {column_name}\")\n",
    "\n",
    "if __name__ == \"__main__\":\n",
    "    # Prompt the user for file path, column name, and category order\n",
    "    file_path = input(\"Enter the CSV file path: \")\n",
    "    column_name = input(\"Enter the column name to convert to categorical: \")\n",
    "    category_order = input(\"Enter the category order (comma-separated values): \").split(',')\n",
    "    \n",
    "    # Call the function to process and display the data\n",
    "    process_csv_file(file_path, column_name, category_order)\n"
   ]
  },
  {
   "cell_type": "code",
   "execution_count": null,
   "id": "6c8df982-c411-4e65-90d8-e8a035f64f02",
   "metadata": {},
   "outputs": [],
   "source": []
  },
  {
   "cell_type": "code",
   "execution_count": 2,
   "id": "10583abe-b97a-4387-8c6f-fe0dcf60147e",
   "metadata": {},
   "outputs": [
    {
     "name": "stdin",
     "output_type": "stream",
     "text": [
      "Enter the path to the CSV file:  l\n"
     ]
    },
    {
     "name": "stdout",
     "output_type": "stream",
     "text": [
      "File not found: l\n"
     ]
    }
   ],
   "source": [
    "# QUESTION.10 Write a Python program that reads a CSV file containing sales data for different products and visualizes the\n",
    "# data using a stacked bar chart to show the sales of each product category over time. The program should prompt the user to\n",
    "# enter the file path and display the chart.\n",
    "# ANSWER \n",
    "import pandas as pd\n",
    "import matplotlib.pyplot as plt\n",
    "\n",
    "# Function to read and process the CSV file\n",
    "def read_and_process_csv(file_path):\n",
    "    try:\n",
    "        # Read the CSV file into a DataFrame\n",
    "        df = pd.read_csv(file_path)\n",
    "\n",
    "        # Assuming your CSV has columns 'Date', 'Product_Category', and 'Sales'\n",
    "        # You can adapt these column names to match your CSV\n",
    "        # Convert the 'Date' column to a datetime format\n",
    "        df['Date'] = pd.to_datetime(df['Date'])\n",
    "\n",
    "        # Pivot the data to create a pivot table for stacked bar chart\n",
    "        pivot_df = df.pivot_table(index='Date', columns='Product_Category', values='Sales', aggfunc='sum', fill_value=0)\n",
    "\n",
    "        # Create a stacked bar chart\n",
    "        pivot_df.plot(kind='bar', stacked=True, figsize=(10, 6))\n",
    "        plt.title('Sales by Product Category Over Time')\n",
    "        plt.xlabel('Date')\n",
    "        plt.ylabel('Sales')\n",
    "        plt.legend(title='Product Category', bbox_to_anchor=(1.05, 1), loc='upper left')\n",
    "        plt.show()\n",
    "\n",
    "    except FileNotFoundError:\n",
    "        print(f\"File not found: {file_path}\")\n",
    "    except Exception as e:\n",
    "        print(f\"An error occurred: {e}\")\n",
    "\n",
    "# Prompt the user for the file path\n",
    "file_path = input(\"Enter the path to the CSV file: \")\n",
    "\n",
    "# Call the function to read and process the CSV file\n",
    "read_and_process_csv(file_path)\n"
   ]
  },
  {
   "cell_type": "code",
   "execution_count": null,
   "id": "9d28496c-3710-4cdc-839d-2b03c9ad07fb",
   "metadata": {},
   "outputs": [],
   "source": []
  },
  {
   "cell_type": "code",
   "execution_count": 3,
   "id": "a9e2eced-18ca-49c2-b632-33785ec82a08",
   "metadata": {},
   "outputs": [
    {
     "name": "stdin",
     "output_type": "stream",
     "text": [
      "Enter the file path of the CSV file containing the student data:  DATA.csv\n"
     ]
    },
    {
     "name": "stdout",
     "output_type": "stream",
     "text": [
      "Statistic Value\n",
      "     Mean  83.5\n",
      "   Median  85.0\n",
      "     Mode    85\n"
     ]
    }
   ],
   "source": [
    "# \n",
    "import pandas as pd\n",
    "\n",
    "# Prompt the user to enter the file path\n",
    "file_path = input(\"Enter the file path of the CSV file containing the student data: \")\n",
    "\n",
    "# Read the CSV file into a Pandas DataFrame\n",
    "try:\n",
    "    df = pd.read_csv(file_path)\n",
    "except FileNotFoundError:\n",
    "    print(\"File not found. Please make sure the file exists and the path is correct.\")\n",
    "    exit(1)\n",
    "except Exception as e:\n",
    "    print(f\"An error occurred: {e}\")\n",
    "    exit(1)\n",
    "\n",
    "# Calculate mean, median, and mode\n",
    "mean_score = df[\"Test Score\"].mean()\n",
    "median_score = df[\"Test Score\"].median()\n",
    "mode_scores = df[\"Test Score\"].mode()\n",
    "\n",
    "# Display the results in a table\n",
    "result_table = pd.DataFrame({\n",
    "    \"Statistic\": [\"Mean\", \"Median\", \"Mode\"],\n",
    "    \"Value\": [mean_score, median_score, ', '.join(map(str, mode_scores.tolist()))]\n",
    "})\n",
    "\n",
    "print(result_table.to_string(index=False))\n"
   ]
  },
  {
   "cell_type": "code",
   "execution_count": null,
   "id": "3dfe62ad-51f9-4006-a118-4ab08322ea6e",
   "metadata": {},
   "outputs": [],
   "source": []
  }
 ],
 "metadata": {
  "kernelspec": {
   "display_name": "Python 3 (ipykernel)",
   "language": "python",
   "name": "python3"
  },
  "language_info": {
   "codemirror_mode": {
    "name": "ipython",
    "version": 3
   },
   "file_extension": ".py",
   "mimetype": "text/x-python",
   "name": "python",
   "nbconvert_exporter": "python",
   "pygments_lexer": "ipython3",
   "version": "3.10.8"
  }
 },
 "nbformat": 4,
 "nbformat_minor": 5
}
